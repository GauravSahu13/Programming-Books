{
  "nbformat": 4,
  "nbformat_minor": 0,
  "metadata": {
    "colab": {
      "provenance": [],
      "authorship_tag": "ABX9TyOLXTkCBQUNitdQfOUdLxlj",
      "include_colab_link": true
    },
    "kernelspec": {
      "name": "python3",
      "display_name": "Python 3"
    },
    "language_info": {
      "name": "python"
    }
  },
  "cells": [
    {
      "cell_type": "markdown",
      "metadata": {
        "id": "view-in-github",
        "colab_type": "text"
      },
      "source": [
        "<a href=\"https://colab.research.google.com/github/GauravSahu13/Programming-Books/blob/Interview_CODE/Sorting.ipynb\" target=\"_parent\"><img src=\"https://colab.research.google.com/assets/colab-badge.svg\" alt=\"Open In Colab\"/></a>"
      ]
    },
    {
      "cell_type": "code",
      "execution_count": null,
      "metadata": {
        "id": "wDw_WQ5b5rWn"
      },
      "outputs": [],
      "source": []
    },
    {
      "cell_type": "markdown",
      "source": [
        "**Selection Sort**\n",
        "\n",
        "select minimum and swap"
      ],
      "metadata": {
        "id": "TpiJDeYx5uDm"
      }
    },
    {
      "cell_type": "markdown",
      "source": [],
      "metadata": {
        "id": "CncpFKWk8Iqr"
      }
    },
    {
      "cell_type": "markdown",
      "source": [
        "TC --> O(n^2)"
      ],
      "metadata": {
        "id": "rtCaWp3B7svv"
      }
    },
    {
      "cell_type": "code",
      "source": [
        "def selection_sort(arr):\n",
        "    n = len(arr)\n",
        "    for i in range(n - 1):\n",
        "        mini = i\n",
        "        for j in range(i + 1, n):\n",
        "            if arr[j] < arr[mini]:\n",
        "                mini = j\n",
        "\n",
        "        # swap\n",
        "        arr[mini], arr[i] = arr[i], arr[mini]\n",
        "\n",
        "    print(\"After selection sort:\")\n",
        "    for i in range(n):\n",
        "        print(arr[i], end=\" \")\n",
        "    print()\n",
        "\n",
        "def main():\n",
        "    arr = [13, 46, 24, 52, 20, 9]\n",
        "\n",
        "    print(\"Before selection sort:\")\n",
        "    for i in range(len(arr)):\n",
        "        print(arr[i], end=\" \")\n",
        "    print()\n",
        "\n",
        "    selection_sort(arr)\n",
        "\n",
        "# Call the main function\n",
        "main()\n"
      ],
      "metadata": {
        "colab": {
          "base_uri": "https://localhost:8080/"
        },
        "id": "VmnxBYrf51IX",
        "outputId": "2eba008e-e12a-4072-8979-7d0c5ca321ef"
      },
      "execution_count": 1,
      "outputs": [
        {
          "output_type": "stream",
          "name": "stdout",
          "text": [
            "Before selection sort:\n",
            "13 46 24 52 20 9 \n",
            "After selection sort:\n",
            "9 13 20 24 46 52 \n"
          ]
        }
      ]
    },
    {
      "cell_type": "markdown",
      "source": [
        "**Bubble Sort**"
      ],
      "metadata": {
        "id": "5wqQSQpG8KWo"
      }
    },
    {
      "cell_type": "markdown",
      "source": [
        "push the maximum to last by adjacent swaps\n",
        "\n",
        "TC ---> O(n^2) ---> worst / average\n",
        "\n",
        "didswap used ---> O(n)  ---> best"
      ],
      "metadata": {
        "id": "ZPoqETvK8PdX"
      }
    },
    {
      "cell_type": "code",
      "source": [
        "def bubble_sort(arr):\n",
        "    n = len(arr)\n",
        "    for i in range(n - 1, 0, -1):\n",
        "        did_swap = 0\n",
        "\n",
        "        for j in range(i):\n",
        "            if arr[j] > arr[j + 1]:\n",
        "                arr[j], arr[j + 1] = arr[j + 1], arr[j]\n",
        "                did_swap = 1\n",
        "\n",
        "        if did_swap == 0:\n",
        "            break\n",
        "\n",
        "    print(\"After bubble sort:\")\n",
        "    for i in range(n):\n",
        "        print(arr[i], end=\" \")\n",
        "    print()\n",
        "\n",
        "def main():\n",
        "    arr = [13, 46, 24, 52, 20, 9]\n",
        "\n",
        "    print(\"Before using Bubble Sort:\")\n",
        "    for i in range(len(arr)):\n",
        "        print(arr[i], end=\" \")\n",
        "    print()\n",
        "\n",
        "    bubble_sort(arr)\n",
        "\n",
        "# Call the main function\n",
        "main()\n"
      ],
      "metadata": {
        "colab": {
          "base_uri": "https://localhost:8080/"
        },
        "id": "jciPL93n6thm",
        "outputId": "c6d88f7d-14de-43ba-f150-3f48a66d609a"
      },
      "execution_count": 2,
      "outputs": [
        {
          "output_type": "stream",
          "name": "stdout",
          "text": [
            "Before using Bubble Sort:\n",
            "13 46 24 52 20 9 \n",
            "After bubble sort:\n",
            "9 13 20 24 46 52 \n"
          ]
        }
      ]
    },
    {
      "cell_type": "markdown",
      "source": [
        "**Reverse Bubble Sort**\n",
        "\n",
        "Uses recursive function instead of loop"
      ],
      "metadata": {
        "id": "ZUvd0Dxwh5Xh"
      }
    },
    {
      "cell_type": "code",
      "source": [
        "def bubble_sort(arr, n):\n",
        "    # Base case: range == 1.\n",
        "    if n == 1:\n",
        "        return\n",
        "\n",
        "    for j in range(n - 1):\n",
        "        if arr[j] > arr[j + 1]:\n",
        "            arr[j], arr[j + 1] = arr[j + 1], arr[j]\n",
        "\n",
        "    # Range reduced after recursion:\n",
        "    bubble_sort(arr, n - 1)\n",
        "\n",
        "def main():\n",
        "    arr = [13, 46, 24, 52, 20, 9]\n",
        "    n = len(arr)\n",
        "\n",
        "    print(\"Before using Bubble Sort:\")\n",
        "    for i in range(n):\n",
        "        print(arr[i], end=\" \")\n",
        "    print()\n",
        "\n",
        "    bubble_sort(arr, n)\n",
        "\n",
        "    print(\"After bubble sort:\")\n",
        "    for i in range(n):\n",
        "        print(arr[i], end=\" \")\n",
        "    print()\n",
        "\n",
        "# Call the main function\n",
        "main()\n"
      ],
      "metadata": {
        "colab": {
          "base_uri": "https://localhost:8080/"
        },
        "id": "0u3-z4nWh4s7",
        "outputId": "8fc04640-a960-4173-a213-728ed39b7134"
      },
      "execution_count": 2,
      "outputs": [
        {
          "output_type": "stream",
          "name": "stdout",
          "text": [
            "Before using Bubble Sort:\n",
            "13 46 24 52 20 9 \n",
            "After bubble sort:\n",
            "9 13 20 24 46 52 \n"
          ]
        }
      ]
    },
    {
      "cell_type": "markdown",
      "source": [
        "**Insertion** **Sort**"
      ],
      "metadata": {
        "id": "TIZ4ROxz9emH"
      }
    },
    {
      "cell_type": "markdown",
      "source": [
        "takes an element & place it in its correct order\n",
        "\n",
        "TC ---> O(n^2) ---> worst / average"
      ],
      "metadata": {
        "id": "yhFIjMOP-xOo"
      }
    },
    {
      "cell_type": "code",
      "source": [
        "def insertion_sort(arr):\n",
        "    n = len(arr)\n",
        "    for i in range(n):\n",
        "        j = i\n",
        "        while j > 0 and arr[j - 1] > arr[j]:\n",
        "            arr[j - 1], arr[j] = arr[j], arr[j - 1]\n",
        "            j -= 1\n",
        "\n",
        "    print(\"After insertion sort:\")\n",
        "    for i in range(n):\n",
        "        print(arr[i], end=\" \")\n",
        "    print()\n",
        "\n",
        "def main():\n",
        "    arr = [13, 46, 24, 52, 20, 9]\n",
        "\n",
        "    print(\"Before using Insertion Sort:\")\n",
        "    for i in range(len(arr)):\n",
        "        print(arr[i], end=\" \")\n",
        "    print()\n",
        "\n",
        "    insertion_sort(arr)\n",
        "\n",
        "# Call the main function\n",
        "main()\n"
      ],
      "metadata": {
        "colab": {
          "base_uri": "https://localhost:8080/"
        },
        "id": "hnSXVSfy9EKZ",
        "outputId": "d739e90f-91b7-4fe1-b96d-c8aac0db61bb"
      },
      "execution_count": 3,
      "outputs": [
        {
          "output_type": "stream",
          "name": "stdout",
          "text": [
            "Before using Insertion Sort:\n",
            "13 46 24 52 20 9 \n",
            "After insertion sort:\n",
            "9 13 20 24 46 52 \n"
          ]
        }
      ]
    },
    {
      "cell_type": "markdown",
      "source": [
        "**Reverse Insertion Sort**\n",
        "\n",
        "Uses recursive function instead of loop"
      ],
      "metadata": {
        "id": "aqWbur-1i-OC"
      }
    },
    {
      "cell_type": "code",
      "source": [
        "def insertion_sort(arr, i, n):\n",
        "    # Base Case: i == n.\n",
        "    if i == n:\n",
        "        return\n",
        "\n",
        "    j = i\n",
        "    while j > 0 and arr[j - 1] > arr[j]:\n",
        "        arr[j - 1], arr[j] = arr[j], arr[j - 1]\n",
        "        j -= 1\n",
        "\n",
        "    insertion_sort(arr, i + 1, n)\n",
        "\n",
        "\n",
        "def main():\n",
        "    arr = [13, 46, 24, 52, 20, 9]\n",
        "    n = len(arr)\n",
        "\n",
        "    print(\"Before using Insertion Sort:\")\n",
        "    for i in range(n):\n",
        "        print(arr[i], end=\" \")\n",
        "    print()\n",
        "\n",
        "    insertion_sort(arr, 0, n)\n",
        "\n",
        "    print(\"After insertion sort:\")\n",
        "    for i in range(n):\n",
        "        print(arr[i], end=\" \")\n",
        "    print()\n",
        "\n",
        "\n",
        "# Call the main function\n",
        "main()\n"
      ],
      "metadata": {
        "colab": {
          "base_uri": "https://localhost:8080/"
        },
        "id": "RZqXZTHqi-sQ",
        "outputId": "d230d817-9a66-4151-f56d-00ae384fef3d"
      },
      "execution_count": 3,
      "outputs": [
        {
          "output_type": "stream",
          "name": "stdout",
          "text": [
            "Before using Insertion Sort:\n",
            "13 46 24 52 20 9 \n",
            "After insertion sort:\n",
            "9 13 20 24 46 52 \n"
          ]
        }
      ]
    },
    {
      "cell_type": "markdown",
      "source": [
        "**Merge Sort**\n",
        "\n",
        "Divide up to single element and hypothetically merge two array\n",
        "\n",
        "TC --> O(NlogN)\n",
        "\n",
        "SC --> O(N)"
      ],
      "metadata": {
        "id": "20F6uNSA__z1"
      }
    },
    {
      "cell_type": "code",
      "source": [
        "class Solution:\n",
        "    @staticmethod\n",
        "    def merge(arr, low, mid, high):\n",
        "        temp = []  # temporary array\n",
        "        left = low  # starting index of left half of arr\n",
        "        right = mid + 1  # starting index of right half of arr\n",
        "\n",
        "        # storing elements in the temporary array in a sorted manner\n",
        "        while left <= mid and right <= high:\n",
        "            if arr[left] <= arr[right]:\n",
        "                temp.append(arr[left])\n",
        "                left += 1\n",
        "            else:\n",
        "                temp.append(arr[right])\n",
        "                right += 1\n",
        "\n",
        "        # if elements on the left half are still left\n",
        "        while left <= mid:\n",
        "            temp.append(arr[left])\n",
        "            left += 1\n",
        "\n",
        "        # if elements on the right half are still left\n",
        "        while right <= high:\n",
        "            temp.append(arr[right])\n",
        "            right += 1\n",
        "\n",
        "        # transferring all elements from temporary to arr\n",
        "        for i in range(low, high + 1):\n",
        "            arr[i] = temp[i - low]\n",
        "\n",
        "    @staticmethod\n",
        "    def merge_sort(arr, low, high):\n",
        "        if low >= high:\n",
        "            return\n",
        "        mid = (low + high) // 2\n",
        "        Solution.merge_sort(arr, low, mid)  # left half\n",
        "        Solution.merge_sort(arr, mid + 1, high)  # right half\n",
        "        Solution.merge(arr, low, mid, high)  # merging sorted halves\n",
        "\n",
        "\n",
        "def main():\n",
        "    n = 7\n",
        "    arr = [9, 4, 7, 6, 3, 1, 5]\n",
        "    print(\"Before sorting array:\")\n",
        "    for i in range(n):\n",
        "        print(arr[i], end=\" \")\n",
        "    print()\n",
        "\n",
        "    Solution.merge_sort(arr, 0, n - 1)\n",
        "\n",
        "    print(\"After sorting array:\")\n",
        "    for i in range(n):\n",
        "        print(arr[i], end=\" \")\n",
        "    print()\n",
        "\n",
        "\n",
        "# Call the main function\n",
        "main()\n"
      ],
      "metadata": {
        "colab": {
          "base_uri": "https://localhost:8080/"
        },
        "id": "v2XUGeRpACvV",
        "outputId": "3933eedc-4fec-4623-85f0-64f8532b3bc2"
      },
      "execution_count": 4,
      "outputs": [
        {
          "output_type": "stream",
          "name": "stdout",
          "text": [
            "Before sorting array:\n",
            "9 4 7 6 3 1 5 \n",
            "After sorting array:\n",
            "1 3 4 5 6 7 9 \n"
          ]
        }
      ]
    },
    {
      "cell_type": "markdown",
      "source": [
        "**Quick Sort**\n",
        "\n",
        "Pick a pivot(any element) & place it in its current place in the sorted array\n",
        "\n",
        "TC --> O(NlogN)\n",
        "\n",
        "SC --> O(1)"
      ],
      "metadata": {
        "id": "9gb6hzLXjesP"
      }
    },
    {
      "cell_type": "code",
      "source": [
        "class Solution:\n",
        "    @staticmethod\n",
        "    def partition(arr, low, high):\n",
        "        pivot = arr[low]\n",
        "        i = low\n",
        "        j = high\n",
        "\n",
        "        while i < j:\n",
        "            while arr[i] <= pivot and i <= high - 1:\n",
        "                i += 1\n",
        "\n",
        "            while arr[j] > pivot and j >= low + 1:\n",
        "                j -= 1\n",
        "\n",
        "            if i < j:\n",
        "                arr[i], arr[j] = arr[j], arr[i]\n",
        "\n",
        "        arr[low], arr[j] = arr[j], arr[low]\n",
        "        return j\n",
        "\n",
        "    @staticmethod\n",
        "    def quick_sort(arr, low, high):\n",
        "        if low < high:\n",
        "            p_index = Solution.partition(arr, low, high)\n",
        "            Solution.quick_sort(arr, low, p_index - 1)\n",
        "            Solution.quick_sort(arr, p_index + 1, high)\n",
        "\n",
        "    @staticmethod\n",
        "    def quick_sort_wrapper(arr):\n",
        "        Solution.quick_sort(arr, 0, len(arr) - 1)\n",
        "        return arr\n",
        "\n",
        "\n",
        "def main():\n",
        "    arr = [4, 6, 2, 5, 7, 9, 1, 3]\n",
        "\n",
        "    print(\"Before using Quick Sort:\")\n",
        "    print(arr)\n",
        "\n",
        "    arr = Solution.quick_sort_wrapper(arr)\n",
        "\n",
        "    print(\"After Quick Sort:\")\n",
        "    print(arr)\n",
        "\n",
        "\n",
        "# Call the main function\n",
        "main()\n"
      ],
      "metadata": {
        "colab": {
          "base_uri": "https://localhost:8080/"
        },
        "id": "_ATTgJomD8yL",
        "outputId": "0f9754a0-efd6-4070-9b74-5252cd12710c"
      },
      "execution_count": 4,
      "outputs": [
        {
          "output_type": "stream",
          "name": "stdout",
          "text": [
            "Before using Quick Sort:\n",
            "[4, 6, 2, 5, 7, 9, 1, 3]\n",
            "After Quick Sort:\n",
            "[1, 2, 3, 4, 5, 6, 7, 9]\n"
          ]
        }
      ]
    },
    {
      "cell_type": "code",
      "source": [
        "def partition(arr, low, high):\n",
        "    pivot = arr[low]\n",
        "    i = low\n",
        "    j = high\n",
        "\n",
        "    while i < j:\n",
        "        while arr[i] <= pivot and i <= high - 1:\n",
        "            i += 1\n",
        "\n",
        "        while arr[j] > pivot and j >= low + 1:\n",
        "            j -= 1\n",
        "\n",
        "        if i < j:\n",
        "            arr[i], arr[j] = arr[j], arr[i]\n",
        "\n",
        "    arr[low], arr[j] = arr[j], arr[low]\n",
        "    return j\n",
        "\n",
        "\n",
        "def quick_sort(arr, low, high):\n",
        "    if low < high:\n",
        "        p_index = partition(arr, low, high)\n",
        "        quick_sort(arr, low, p_index - 1)\n",
        "        quick_sort(arr, p_index + 1, high)\n",
        "\n",
        "\n",
        "def quick_sort_wrapper(arr):\n",
        "    quick_sort(arr, 0, len(arr) - 1)\n",
        "    return arr\n",
        "\n",
        "\n",
        "def main():\n",
        "    arr = [4, 6, 2, 5, 7, 9, 1, 3]\n",
        "\n",
        "    print(\"Before using Quick Sort:\")\n",
        "    print(arr)\n",
        "\n",
        "    arr = quick_sort_wrapper(arr)\n",
        "\n",
        "    print(\"After Quick Sort:\")\n",
        "    print(arr)\n",
        "\n",
        "\n",
        "# Call the main function\n",
        "main()\n"
      ],
      "metadata": {
        "colab": {
          "base_uri": "https://localhost:8080/"
        },
        "id": "lomTZHFSlUMv",
        "outputId": "a6f758e1-e9f0-41cf-93b0-0ec7f853ad53"
      },
      "execution_count": 5,
      "outputs": [
        {
          "output_type": "stream",
          "name": "stdout",
          "text": [
            "Before using Quick Sort:\n",
            "[4, 6, 2, 5, 7, 9, 1, 3]\n",
            "After Quick Sort:\n",
            "[1, 2, 3, 4, 5, 6, 7, 9]\n"
          ]
        }
      ]
    },
    {
      "cell_type": "code",
      "source": [],
      "metadata": {
        "id": "oQk-wuk1lX36"
      },
      "execution_count": null,
      "outputs": []
    }
  ]
}