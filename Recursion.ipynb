{
  "nbformat": 4,
  "nbformat_minor": 0,
  "metadata": {
    "colab": {
      "provenance": [],
      "authorship_tag": "ABX9TyNT2hzcKBUYb43+x0NQkPQ+",
      "include_colab_link": true
    },
    "kernelspec": {
      "name": "python3",
      "display_name": "Python 3"
    },
    "language_info": {
      "name": "python"
    }
  },
  "cells": [
    {
      "cell_type": "markdown",
      "metadata": {
        "id": "view-in-github",
        "colab_type": "text"
      },
      "source": [
        "<a href=\"https://colab.research.google.com/github/GauravSahu13/Programming-Books/blob/Interview_CODE/Recursion.ipynb\" target=\"_parent\"><img src=\"https://colab.research.google.com/assets/colab-badge.svg\" alt=\"Open In Colab\"/></a>"
      ]
    },
    {
      "cell_type": "code",
      "execution_count": null,
      "metadata": {
        "id": "unuZkJeEaA-S"
      },
      "outputs": [],
      "source": []
    },
    {
      "cell_type": "markdown",
      "source": [
        "**Recursion**\n",
        "\n",
        "when a function called itself until a specified condition is met\n",
        "\n",
        "calling function again again --> infinity recursion"
      ],
      "metadata": {
        "id": "fi3LSa2Van1W"
      }
    },
    {
      "cell_type": "markdown",
      "source": [
        "**Stack overflow**  ---> Whenever recursion calls are executed, they’re simultaneously stored in a recursion stack where they wait for the completion of the recursive function.\n",
        "exceeding the memory limit of the recursion stack and hence the program terminates giving a Segmentation Fault error.\n",
        "\n"
      ],
      "metadata": {
        "id": "zJzMdpDFdUSR"
      }
    },
    {
      "cell_type": "markdown",
      "source": [
        "**Base Condition**\n",
        "\n",
        "It is the condition that is written in a recursive function in order for it to get completed and not to run infinitely. After encountering the base condition, the function terminates and returns back to its parent function simultaneously."
      ],
      "metadata": {
        "id": "DKRPvwFLfgav"
      }
    },
    {
      "cell_type": "code",
      "source": [
        "class Recursion:\n",
        "    cnt = 0\n",
        "\n",
        "    @staticmethod\n",
        "    def print():\n",
        "        if Recursion.cnt == 3:\n",
        "            return\n",
        "        print(Recursion.cnt)\n",
        "        Recursion.cnt += 1\n",
        "        Recursion.print()\n",
        "\n",
        "Recursion.print()"
      ],
      "metadata": {
        "id": "uKNp31d-a6XG",
        "colab": {
          "base_uri": "https://localhost:8080/"
        },
        "outputId": "074bd3f4-2831-475a-a6e7-8bf4774a01fd"
      },
      "execution_count": 1,
      "outputs": [
        {
          "output_type": "stream",
          "name": "stdout",
          "text": [
            "0\n",
            "1\n",
            "2\n"
          ]
        }
      ]
    },
    {
      "cell_type": "code",
      "source": [
        "# print name 1 to N times\n",
        "def func(i, n):\n",
        "    if i > n:\n",
        "        return\n",
        "    print(i)\n",
        "    func(i + 1, n)\n",
        "\n",
        "n = int(input(\"enter no. of times \"))\n",
        "func(1, n)"
      ],
      "metadata": {
        "colab": {
          "base_uri": "https://localhost:8080/"
        },
        "id": "RCyygd6JgErb",
        "outputId": "4da0fe5b-fad7-49de-ace1-559b99a50252"
      },
      "execution_count": 2,
      "outputs": [
        {
          "output_type": "stream",
          "name": "stdout",
          "text": [
            "enter no. of times 5\n",
            "1\n",
            "2\n",
            "3\n",
            "4\n",
            "5\n"
          ]
        }
      ]
    },
    {
      "cell_type": "code",
      "source": [
        "# print name N to 1 times\n",
        "def func(i, n):\n",
        "    if i < 1:\n",
        "        return\n",
        "    print(i)\n",
        "    func(i-1, n)\n",
        "n = int(input(\"enter no. of times \"))\n",
        "func(n, n)"
      ],
      "metadata": {
        "colab": {
          "base_uri": "https://localhost:8080/"
        },
        "id": "GcAHXdQPhgpU",
        "outputId": "71fcb743-b7a5-4473-c178-006150547846"
      },
      "execution_count": 4,
      "outputs": [
        {
          "output_type": "stream",
          "name": "stdout",
          "text": [
            "enter no. of times 5\n",
            "5\n",
            "4\n",
            "3\n",
            "2\n",
            "1\n"
          ]
        }
      ]
    },
    {
      "cell_type": "markdown",
      "source": [
        "**Sum of n natural number**"
      ],
      "metadata": {
        "id": "4lb67E4YjR1L"
      }
    },
    {
      "cell_type": "code",
      "source": [
        "def func(i, sum_value):\n",
        "    # Base Condition.\n",
        "    if i < 1:\n",
        "        print(sum_value)\n",
        "        return\n",
        "\n",
        "    # Function call to increment sum by i till i decrements to 1.\n",
        "    func(i - 1, sum_value + i)\n",
        "\n",
        "# Here, let’s take the value of n to be 3.\n",
        "n = 3\n",
        "func(n, 0)\n"
      ],
      "metadata": {
        "colab": {
          "base_uri": "https://localhost:8080/"
        },
        "id": "gBqxiLWUibf4",
        "outputId": "98d87f33-7f21-46b0-f2f2-ab85d9bebb32"
      },
      "execution_count": 6,
      "outputs": [
        {
          "output_type": "stream",
          "name": "stdout",
          "text": [
            "6\n"
          ]
        }
      ]
    },
    {
      "cell_type": "markdown",
      "source": [
        "**Factorial**"
      ],
      "metadata": {
        "id": "zFChrBD4kruu"
      }
    },
    {
      "cell_type": "code",
      "source": [
        "def factorial(n):\n",
        "    # Base Condition.\n",
        "    if n == 0:\n",
        "        return 1\n",
        "\n",
        "    # Problem broken down into 2 parts and then combined.\n",
        "    return n * factorial(n - 1)\n",
        "\n",
        "# Here, let’s take the value of n to be 3.\n",
        "n = 3\n",
        "print(factorial(n))\n"
      ],
      "metadata": {
        "colab": {
          "base_uri": "https://localhost:8080/"
        },
        "id": "eC0jgVchkTxb",
        "outputId": "ebf5bb14-4795-4948-c623-48e5b258354b"
      },
      "execution_count": 7,
      "outputs": [
        {
          "output_type": "stream",
          "name": "stdout",
          "text": [
            "6\n"
          ]
        }
      ]
    },
    {
      "cell_type": "markdown",
      "source": [
        "**Reverse of Array**"
      ],
      "metadata": {
        "id": "qnS7T_vNk-MF"
      }
    },
    {
      "cell_type": "code",
      "source": [
        "# function to print array\n",
        "def printArray(arr, n):\n",
        "    print(\"The reversed array is:- \")\n",
        "    for i in range(n):\n",
        "        print(arr[i], end=\" \")\n",
        "    print()\n",
        "\n",
        "\n",
        "def reverseArray(arr, n):\n",
        "    ans = [0] * n\n",
        "    for i in range(n - 1, -1, -1):\n",
        "        ans[n - i - 1] = arr[i]\n",
        "    printArray(ans, n)\n",
        "\n",
        "\n",
        "# Driver Code\n",
        "if __name__ == \"__main__\":\n",
        "    arr = [5, 4, 3, 2, 1]\n",
        "    n = len(arr)\n",
        "    reverseArray(arr, n)"
      ],
      "metadata": {
        "colab": {
          "base_uri": "https://localhost:8080/"
        },
        "id": "Xz6bt5s8kSJ3",
        "outputId": "a4672061-7dff-4e2d-c052-ec2fd2f0d01a"
      },
      "execution_count": 8,
      "outputs": [
        {
          "output_type": "stream",
          "name": "stdout",
          "text": [
            "The reversed array is:- \n",
            "1 2 3 4 5 \n"
          ]
        }
      ]
    },
    {
      "cell_type": "markdown",
      "source": [
        "**Palindrome**"
      ],
      "metadata": {
        "id": "emopi0yclKjS"
      }
    },
    {
      "cell_type": "code",
      "source": [
        "def isPalindrome(s):\n",
        "    left = 0\n",
        "    right = len(s)-1\n",
        "    while left < right:\n",
        "        if not s[left].isalnum():\n",
        "            left += 1\n",
        "        elif not s[right].isalnum():\n",
        "            right -= 1\n",
        "        elif s[left].lower() != s[right].lower():\n",
        "            return False\n",
        "        else:\n",
        "            left += 1\n",
        "            right -= 1\n",
        "    return True\n",
        "\n",
        "\n",
        "\n",
        "if __name__ == \"__main__\":\n",
        "    str = \"ABCDCBA\"\n",
        "    ans = isPalindrome(str)\n",
        "\n",
        "\n",
        "    if ans == True:\n",
        "        print(\"Palindrome\")\n",
        "    else:\n",
        "        print(\"Not Palindrome\")"
      ],
      "metadata": {
        "id": "C0WurfLbjYH8"
      },
      "execution_count": null,
      "outputs": []
    },
    {
      "cell_type": "markdown",
      "source": [
        "**Fibonacci Series**"
      ],
      "metadata": {
        "id": "1EIThsrDlcK2"
      }
    },
    {
      "cell_type": "code",
      "source": [
        "def main():\n",
        "    n = 5\n",
        "    if n == 0:\n",
        "        print(0)\n",
        "    else:\n",
        "        fib = [0] * (n + 1)\n",
        "        fib[0] = 0\n",
        "        fib[1] = 1\n",
        "        for i in range(2, n + 1):\n",
        "            fib[i] = fib[i - 1] + fib[i - 2]\n",
        "\n",
        "        print(f\"The Fibonacci Series up to {n}th term:\")\n",
        "        for i in range(n + 1):\n",
        "            print(fib[i], end=\" \")\n",
        "\n",
        "# Call the main method\n",
        "main()\n"
      ],
      "metadata": {
        "colab": {
          "base_uri": "https://localhost:8080/"
        },
        "id": "HCRB6Lsrlck-",
        "outputId": "4f19525b-f8c7-47f0-b984-e60fdbc04578"
      },
      "execution_count": 9,
      "outputs": [
        {
          "output_type": "stream",
          "name": "stdout",
          "text": [
            "The Fibonacci Series up to 5th term:\n",
            "0 1 1 2 3 5 "
          ]
        }
      ]
    },
    {
      "cell_type": "code",
      "source": [],
      "metadata": {
        "id": "t_eS1MLBljjJ"
      },
      "execution_count": null,
      "outputs": []
    }
  ]
}